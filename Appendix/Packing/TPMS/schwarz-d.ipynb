{
 "cells": [
  {
   "cell_type": "code",
   "execution_count": 7,
   "metadata": {},
   "outputs": [],
   "source": [
    "import numpy as np\n",
    "from  pymesh import loadmesh"
   ]
  },
  {
   "cell_type": "code",
   "execution_count": 1,
   "id": "077e38f3",
   "metadata": {},
   "outputs": [],
   "source": [
    "def compute_triangle_area(v1, v2, v3):\n",
    "    \"\"\"\n",
    "    This function computes the area of a triangle given its vertices v1, v2 and v3.\n",
    "    \"\"\"\n",
    "    return 0.5 * np.linalg.norm(np.cross(v2 - v1, v3 - v1))"
   ]
  },
  {
   "cell_type": "code",
   "execution_count": 2,
   "id": "61b90a77",
   "metadata": {},
   "outputs": [],
   "source": [
    "def compute_mesh_area(mesh):\n",
    "    \"\"\"\n",
    "    This function computes the surface area of a mesh.\n",
    "    \"\"\"\n",
    "    surface_area = 0.0\n",
    "\n",
    "    for face in mesh.faces:\n",
    "        v1 = mesh.vertices[face[0]]\n",
    "        v2 = mesh.vertices[face[1]]\n",
    "        v3 = mesh.vertices[face[2]]\n",
    "\n",
    "        surface_area += compute_triangle_area(v1, v2, v3)\n",
    "\n",
    "    return surface_area"
   ]
  },
  {
   "cell_type": "code",
   "execution_count": 6,
   "id": "7ed47833",
   "metadata": {},
   "outputs": [
    {
     "ename": "AttributeError",
     "evalue": "module 'pymesh' has no attribute 'load_mesh'",
     "output_type": "error",
     "traceback": [
      "\u001b[1;31m---------------------------------------------------------------------------\u001b[0m",
      "\u001b[1;31mAttributeError\u001b[0m                            Traceback (most recent call last)",
      "\u001b[1;32mc:\\Users\\dan\\Documents\\co2cookbook\\Appendix\\Packing\\TPMS\\schwarz-d.ipynb Cell 4\u001b[0m in \u001b[0;36m<cell line: 1>\u001b[1;34m()\u001b[0m\n\u001b[1;32m----> <a href='vscode-notebook-cell:/c%3A/Users/dan/Documents/co2cookbook/Appendix/Packing/TPMS/schwarz-d.ipynb#W3sZmlsZQ%3D%3D?line=0'>1</a>\u001b[0m mesh \u001b[39m=\u001b[39m pymesh\u001b[39m.\u001b[39;49mload_mesh(\u001b[39m\"\u001b[39m\u001b[39m./schwarz-d.obj\u001b[39m\u001b[39m\"\u001b[39m)\n\u001b[0;32m      <a href='vscode-notebook-cell:/c%3A/Users/dan/Documents/co2cookbook/Appendix/Packing/TPMS/schwarz-d.ipynb#W3sZmlsZQ%3D%3D?line=1'>2</a>\u001b[0m surface_area \u001b[39m=\u001b[39m compute_mesh_area(mesh)\n\u001b[0;32m      <a href='vscode-notebook-cell:/c%3A/Users/dan/Documents/co2cookbook/Appendix/Packing/TPMS/schwarz-d.ipynb#W3sZmlsZQ%3D%3D?line=2'>3</a>\u001b[0m surface_area\n",
      "\u001b[1;31mAttributeError\u001b[0m: module 'pymesh' has no attribute 'load_mesh'"
     ]
    }
   ],
   "source": [
    "mesh = pymesh.load_mesh(\"./schwarz-d.obj\")\n",
    "surface_area = compute_mesh_area(mesh)\n",
    "surface_area"
   ]
  }
 ],
 "metadata": {
  "kernelspec": {
   "display_name": "base",
   "language": "python",
   "name": "python3"
  },
  "language_info": {
   "codemirror_mode": {
    "name": "ipython",
    "version": 3
   },
   "file_extension": ".py",
   "mimetype": "text/x-python",
   "name": "python",
   "nbconvert_exporter": "python",
   "pygments_lexer": "ipython3",
   "version": "3.9.12"
  }
 },
 "nbformat": 4,
 "nbformat_minor": 5
}
