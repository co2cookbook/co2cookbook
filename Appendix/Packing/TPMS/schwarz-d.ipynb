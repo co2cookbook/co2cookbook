{
 "cells": [
  {
   "cell_type": "code",
   "execution_count": 11,
   "metadata": {},
   "outputs": [],
   "source": [
    "import trimesh"
   ]
  },
  {
   "cell_type": "code",
   "execution_count": 46,
   "id": "7ed47833",
   "metadata": {},
   "outputs": [],
   "source": [
    "mesh = trimesh.load_mesh(\"./schwarz-d-blender.obj\")"
   ]
  },
  {
   "cell_type": "code",
   "execution_count": 47,
   "id": "f6a0b9ba",
   "metadata": {},
   "outputs": [
    {
     "data": {
      "text/plain": [
       "168064426"
      ]
     },
     "execution_count": 47,
     "metadata": {},
     "output_type": "execute_result"
    }
   ],
   "source": [
    "round(mesh.bounding_box.volume)"
   ]
  },
  {
   "cell_type": "code",
   "execution_count": 48,
   "id": "6d6982a2",
   "metadata": {},
   "outputs": [
    {
     "data": {
      "text/plain": [
       "43600874"
      ]
     },
     "execution_count": 48,
     "metadata": {},
     "output_type": "execute_result"
    }
   ],
   "source": [
    "round(mesh.area)"
   ]
  },
  {
   "cell_type": "code",
   "execution_count": 49,
   "id": "2cdef402",
   "metadata": {},
   "outputs": [
    {
     "data": {
      "text/plain": [
       "0.25942952580139134"
      ]
     },
     "execution_count": 49,
     "metadata": {},
     "output_type": "execute_result"
    }
   ],
   "source": [
    "mesh.area/mesh.bounding_box.volume"
   ]
  }
 ],
 "metadata": {
  "kernelspec": {
   "display_name": "base",
   "language": "python",
   "name": "python3"
  },
  "language_info": {
   "codemirror_mode": {
    "name": "ipython",
    "version": 3
   },
   "file_extension": ".py",
   "mimetype": "text/x-python",
   "name": "python",
   "nbconvert_exporter": "python",
   "pygments_lexer": "ipython3",
   "version": "3.9.12"
  }
 },
 "nbformat": 4,
 "nbformat_minor": 5
}
