{
 "cells": [
  {
   "cell_type": "code",
   "execution_count": 11,
   "metadata": {},
   "outputs": [],
   "source": [
    "import trimesh"
   ]
  },
  {
   "cell_type": "code",
   "execution_count": 22,
   "id": "7ed47833",
   "metadata": {},
   "outputs": [],
   "source": [
    "mesh = trimesh.load_mesh(\"./schwarz-d-blender.obj\")"
   ]
  },
  {
   "cell_type": "code",
   "execution_count": 23,
   "id": "f6a0b9ba",
   "metadata": {},
   "outputs": [
    {
     "data": {
      "text/plain": [
       "1001116"
      ]
     },
     "execution_count": 23,
     "metadata": {},
     "output_type": "execute_result"
    }
   ],
   "source": [
    "round(mesh.bounding_box.volume)"
   ]
  },
  {
   "cell_type": "code",
   "execution_count": 24,
   "id": "6d6982a2",
   "metadata": {},
   "outputs": [
    {
     "data": {
      "text/plain": [
       "1536609"
      ]
     },
     "execution_count": 24,
     "metadata": {},
     "output_type": "execute_result"
    }
   ],
   "source": [
    "round(mesh.area)"
   ]
  },
  {
   "cell_type": "code",
   "execution_count": 25,
   "id": "2cdef402",
   "metadata": {},
   "outputs": [
    {
     "data": {
      "text/plain": [
       "1.5348970121007688"
      ]
     },
     "execution_count": 25,
     "metadata": {},
     "output_type": "execute_result"
    }
   ],
   "source": [
    "mesh.area/mesh.bounding_box.volume"
   ]
  }
 ],
 "metadata": {
  "kernelspec": {
   "display_name": "base",
   "language": "python",
   "name": "python3"
  },
  "language_info": {
   "codemirror_mode": {
    "name": "ipython",
    "version": 3
   },
   "file_extension": ".py",
   "mimetype": "text/x-python",
   "name": "python",
   "nbconvert_exporter": "python",
   "pygments_lexer": "ipython3",
   "version": "3.9.12"
  }
 },
 "nbformat": 4,
 "nbformat_minor": 5
}
